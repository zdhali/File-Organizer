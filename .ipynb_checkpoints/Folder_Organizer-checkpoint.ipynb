{
 "cells": [
  {
   "cell_type": "code",
   "execution_count": 1,
   "id": "4c1541d6-75d2-49e2-a8ba-122611f57fb2",
   "metadata": {},
   "outputs": [],
   "source": [
    "import os \n",
    "import shutil"
   ]
  },
  {
   "cell_type": "code",
   "execution_count": null,
   "id": "97a1cc9a-d0b5-4210-bb05-f9311f45f142",
   "metadata": {},
   "outputs": [],
   "source": [
    "import argparse\n",
    "\n",
    "# Initialize the parser\n",
    "parser = argparse.ArgumentParser(description=\"Organizes into subdirectories based on file type.\")\n",
    "\n",
    "# Add arguments\n",
    "parser.add_argument(\"path_to_clean\", type=str, help=\"The path you would like to organize.\")\n"
   ]
  },
  {
   "cell_type": "code",
   "execution_count": 83,
   "id": "a90dbfd1-4d99-48ce-8062-a317070cdd87",
   "metadata": {},
   "outputs": [],
   "source": [
    "# path_to_clean=\"C:\\\\Users\\\\zafri\\\\Downloads\"\n",
    "path_to_clean=\"C:\\\\Users\\\\zafri\\\\OneDrive\\\\Desktop\""
   ]
  },
  {
   "cell_type": "code",
   "execution_count": 91,
   "id": "a9e1b955-455c-4e30-a5df-b86d6b55b0bf",
   "metadata": {},
   "outputs": [],
   "source": [
    "os.chdir(path_to_clean)"
   ]
  },
  {
   "cell_type": "code",
   "execution_count": 92,
   "id": "9afa75a3-5324-4054-b9bb-925b98bf0deb",
   "metadata": {},
   "outputs": [
    {
     "data": {
      "text/plain": [
       "['2023-2024 Sign and Submit Confirmation _ FAFSA Application _ Federal Student Aid- Zafrin.pdf',\n",
       " '2023-2024 Sign and Submit Confirmation _ FAFSA Application _ Federal Student Aid.pdf',\n",
       " '933609.PDF',\n",
       " 'Aidvantage- Zafrin 1098 2021.pdf',\n",
       " 'Anthem HealthCard 2024.pdf',\n",
       " 'ap-archived-score-request-form.pdf',\n",
       " 'Blender 4.1.lnk',\n",
       " 'Build Your Own Toyota _ Toyota Configurator.pdf',\n",
       " 'desktop.ini',\n",
       " 'Discord.lnk',\n",
       " 'drug_approval_process.pdf',\n",
       " 'ECON252_03_011911_MC.pdf',\n",
       " 'Evernote.lnk',\n",
       " 'Ferguson-Chapter14-BiotechEntrepreneur-2014.pdf',\n",
       " 'fixed audio.mp3',\n",
       " 'friends dance.mp3',\n",
       " 'GILD-Q323-Earnings-Press-Release-7-November-2023.pdf',\n",
       " \"Gmail - We've received your order #BBY01-806653024143_.pdf\",\n",
       " 'Grammarly.lnk',\n",
       " 'holud_cut_3(short).mp3',\n",
       " 'J-Card Request Form.pdf',\n",
       " 'JHU Acceptance Letter.pdf',\n",
       " 'Kindle.lnk',\n",
       " 'LOANS',\n",
       " 'Mazda Build & Price Your Vehicle _ Mazda USA.pdf',\n",
       " 'Mom NVR Form-filled.pdf',\n",
       " 'Mom NVR Form.pdf',\n",
       " 'My Ticket - Shen Yun 2024 - Berkeley.pdf',\n",
       " \"Naila's 16th Birthday - Final Hard Drive Version\",\n",
       " 'Nelnet- JHU FALL 2023.pdf',\n",
       " 'O Leke Pehla Pehla Pyar (HD) _ CID Songs _ Dev Anand _ Shakeela _ Sheela Vaz _ Filmigaane (320 kbps).mp3',\n",
       " 'Order Confirmation - Ultimate Rewards.pdf',\n",
       " 'pdf-statement-details.pdf',\n",
       " 'Print Boarding Passes and Security Documents _ Southwest Airlines.pdf',\n",
       " 'Priom Holud.mp3',\n",
       " 'Sexual Misconduct Certificate.pdf',\n",
       " 'Sohag Chand- Ayana 16th Birthday.mp3',\n",
       " 'Southwest Airlines_ Confirmation.pdf',\n",
       " 'Tax Information - Documents - Nelnet 1098 Mom.pdf',\n",
       " 'Tax Information - Documents - OSLA 1098-E Abbu.pdf',\n",
       " 'thinkorswim.lnk',\n",
       " 'Tylonel by Johnson or Johnsonn.pptx']"
      ]
     },
     "execution_count": 92,
     "metadata": {},
     "output_type": "execute_result"
    }
   ],
   "source": [
    "os.listdir(path_to_clean)"
   ]
  },
  {
   "cell_type": "code",
   "execution_count": 93,
   "id": "d11978b2-2946-4e42-9ad6-7cbafdf8d179",
   "metadata": {},
   "outputs": [],
   "source": [
    "# Document file types\n",
    "document_file_types = [\n",
    "    \"doc\", \"docx\", \"pdf\", \"txt\", \"xls\", \"xlsx\", \n",
    "    \"ppt\", \"pptx\", \"odt\", \"ods\", \"rtf\", \"md\", \"csv\"\n",
    "]\n",
    "\n",
    "# Music file types\n",
    "music_file_types = [\n",
    "    \"mp3\", \"wav\", \"aac\", \"flac\", \"ogg\", \"m4a\", \n",
    "    \"wma\", \"alac\"\n",
    "]\n",
    "\n",
    "# Video file types\n",
    "video_file_types = [\n",
    "    \"mp4\", \"avi\", \"mkv\", \"mov\", \"wmv\", \"flv\", \n",
    "    \"webm\", \"m4v\", \"3gp\"\n",
    "]"
   ]
  },
  {
   "cell_type": "code",
   "execution_count": 94,
   "id": "aaf4b5cd-fecc-419b-b942-4010d7a3155a",
   "metadata": {},
   "outputs": [],
   "source": [
    "def findfiletypes(path_to_clean):\n",
    "    \"\"\"\n",
    "    Returns a list of file types found in input path \n",
    "\n",
    "    Parameters:\n",
    "    path_to_clean (string): Path to folder to clean up\n",
    "    \n",
    "    Returns:\n",
    "    typesoffiles (list): Lists of file types found. \n",
    "    \"\"\"\n",
    "    typesoffiles=[]\n",
    "    for file in os.listdir(path_to_clean):\n",
    "        filetype=file.split(\".\")[-1]\n",
    "        typesoffiles.append(filetype)\n",
    "    typesoffiles=set(typesoffiles)\n",
    "    \n",
    "    print (typesoffiles)\n",
    "    return typesoffiles\n",
    "\n",
    "\n",
    "    "
   ]
  },
  {
   "cell_type": "code",
   "execution_count": 95,
   "id": "d1d88bf8-df9d-417f-bebd-a6a45db93154",
   "metadata": {},
   "outputs": [
    {
     "name": "stdout",
     "output_type": "stream",
     "text": [
      "{'ini', 'LOANS', 'pdf', \"Naila's 16th Birthday - Final Hard Drive Version\", 'PDF', 'lnk', 'pptx', 'mp3'}\n"
     ]
    },
    {
     "data": {
      "text/plain": [
       "{'LOANS',\n",
       " \"Naila's 16th Birthday - Final Hard Drive Version\",\n",
       " 'PDF',\n",
       " 'ini',\n",
       " 'lnk',\n",
       " 'mp3',\n",
       " 'pdf',\n",
       " 'pptx'}"
      ]
     },
     "execution_count": 95,
     "metadata": {},
     "output_type": "execute_result"
    }
   ],
   "source": [
    "findfiletypes(path_to_clean)"
   ]
  },
  {
   "cell_type": "code",
   "execution_count": 96,
   "id": "048ce6ca-4562-48c6-a638-633ec1cb7167",
   "metadata": {},
   "outputs": [],
   "source": [
    "def organizebyfiletypes(path_to_clean):\n",
    "    \"\"\"\n",
    "    Returns a list of file types found in input path \n",
    "\n",
    "    Parameters:\n",
    "    path_to_clean (string): Path to folder to clean up\n",
    "    \n",
    "    Returns:\n",
    "    typesoffiles (list): Lists of file types found. \n",
    "    \"\"\"\n",
    "    folder_pathtoclean = path_to_clean.split(\"\\\\\")[-1].strip(\"./\")\n",
    "    folder_pathtoclean\n",
    "\n",
    "    # os.chdir(path_to_clean)\n",
    "    current_dir = os.getcwd()\n",
    "    print (os.getcwd())\n",
    "\n",
    "\n",
    "    \n",
    "    typesoffiles=[]\n",
    "    for file in os.listdir(current_dir):\n",
    "        filetype=file.split(\".\")[-1]\n",
    "        print (filetype)\n",
    "        if filetype in document_file_types:\n",
    "            print (file)\n",
    "            new_documents_folder= folder_pathtoclean + \"_Documents\"\n",
    "            os.makedirs(new_documents_folder, exist_ok=True)\n",
    "            currentfilepath= current_dir + \"/\" + file\n",
    "            newfilepath= current_dir + \"/\" + new_documents_folder + \"/\" + file\n",
    "\n",
    "            shutil.move(currentfilepath, newfilepath) \n",
    "            print(currentfilepath + \" --> \" + newfilepath)\n",
    "        if filetype in music_file_types:\n",
    "            print (file)\n",
    "            new_music_folder= folder_pathtoclean + \"_Music\"\n",
    "            os.makedirs(new_music_folder, exist_ok=True)\n",
    "            currentfilepath= current_dir + \"/\" + file\n",
    "            newfilepath= current_dir + \"/\" + new_music_folder + \"/\" + file\n",
    "\n",
    "            shutil.move(currentfilepath, newfilepath) \n",
    "            print(currentfilepath + \" --> \" + newfilepath)\n",
    "        if filetype in video_file_types:\n",
    "            #print (file)\n",
    "            new_video_folder= folder_pathtoclean + \"_Video\"\n",
    "            os.makedirs(new_video_folder, exist_ok=True)\n",
    "            currentfilepath= current_dir + \"/\" + file\n",
    "            newfilepath= current_dir + \"/\" + new_video_folder + \"/\" + file\n",
    "\n",
    "            shutil.move(currentfilepath, newfilepath) \n",
    "            print(currentfilepath + \" --> \" + newfilepath)\n",
    "        if filetype in [\"zip\"]:\n",
    "            #print (file)\n",
    "            new_zip_folder= folder_pathtoclean + \"_Zip\"\n",
    "            os.makedirs(new_zip_folder, exist_ok=True)\n",
    "            currentfilepath= current_dir + \"/\" + file\n",
    "            newfilepath= current_dir + \"/\" + new_zip_folder + \"/\" + file\n",
    "\n",
    "            shutil.move(currentfilepath, newfilepath) \n",
    "            print(currentfilepath + \" --> \" + newfilepath)\n",
    "        \n",
    "        \n",
    "        \n",
    "        \n",
    "\n",
    "\n",
    "    "
   ]
  },
  {
   "cell_type": "code",
   "execution_count": 97,
   "id": "2c8f406f-4461-4b81-97d1-6e70f56cfeba",
   "metadata": {
    "scrolled": true
   },
   "outputs": [
    {
     "name": "stdout",
     "output_type": "stream",
     "text": [
      "C:\\Users\\zafri\\OneDrive\\Desktop\n",
      "pdf\n",
      "2023-2024 Sign and Submit Confirmation _ FAFSA Application _ Federal Student Aid- Zafrin.pdf\n",
      "C:\\Users\\zafri\\OneDrive\\Desktop/2023-2024 Sign and Submit Confirmation _ FAFSA Application _ Federal Student Aid- Zafrin.pdf --> C:\\Users\\zafri\\OneDrive\\Desktop/Desktop_Documents/2023-2024 Sign and Submit Confirmation _ FAFSA Application _ Federal Student Aid- Zafrin.pdf\n",
      "pdf\n",
      "2023-2024 Sign and Submit Confirmation _ FAFSA Application _ Federal Student Aid.pdf\n",
      "C:\\Users\\zafri\\OneDrive\\Desktop/2023-2024 Sign and Submit Confirmation _ FAFSA Application _ Federal Student Aid.pdf --> C:\\Users\\zafri\\OneDrive\\Desktop/Desktop_Documents/2023-2024 Sign and Submit Confirmation _ FAFSA Application _ Federal Student Aid.pdf\n",
      "PDF\n",
      "pdf\n",
      "Aidvantage- Zafrin 1098 2021.pdf\n",
      "C:\\Users\\zafri\\OneDrive\\Desktop/Aidvantage- Zafrin 1098 2021.pdf --> C:\\Users\\zafri\\OneDrive\\Desktop/Desktop_Documents/Aidvantage- Zafrin 1098 2021.pdf\n",
      "pdf\n",
      "Anthem HealthCard 2024.pdf\n",
      "C:\\Users\\zafri\\OneDrive\\Desktop/Anthem HealthCard 2024.pdf --> C:\\Users\\zafri\\OneDrive\\Desktop/Desktop_Documents/Anthem HealthCard 2024.pdf\n",
      "pdf\n",
      "ap-archived-score-request-form.pdf\n",
      "C:\\Users\\zafri\\OneDrive\\Desktop/ap-archived-score-request-form.pdf --> C:\\Users\\zafri\\OneDrive\\Desktop/Desktop_Documents/ap-archived-score-request-form.pdf\n",
      "lnk\n",
      "pdf\n",
      "Build Your Own Toyota _ Toyota Configurator.pdf\n",
      "C:\\Users\\zafri\\OneDrive\\Desktop/Build Your Own Toyota _ Toyota Configurator.pdf --> C:\\Users\\zafri\\OneDrive\\Desktop/Desktop_Documents/Build Your Own Toyota _ Toyota Configurator.pdf\n",
      "ini\n",
      "lnk\n",
      "pdf\n",
      "drug_approval_process.pdf\n",
      "C:\\Users\\zafri\\OneDrive\\Desktop/drug_approval_process.pdf --> C:\\Users\\zafri\\OneDrive\\Desktop/Desktop_Documents/drug_approval_process.pdf\n",
      "pdf\n",
      "ECON252_03_011911_MC.pdf\n",
      "C:\\Users\\zafri\\OneDrive\\Desktop/ECON252_03_011911_MC.pdf --> C:\\Users\\zafri\\OneDrive\\Desktop/Desktop_Documents/ECON252_03_011911_MC.pdf\n",
      "lnk\n",
      "pdf\n",
      "Ferguson-Chapter14-BiotechEntrepreneur-2014.pdf\n",
      "C:\\Users\\zafri\\OneDrive\\Desktop/Ferguson-Chapter14-BiotechEntrepreneur-2014.pdf --> C:\\Users\\zafri\\OneDrive\\Desktop/Desktop_Documents/Ferguson-Chapter14-BiotechEntrepreneur-2014.pdf\n",
      "mp3\n",
      "fixed audio.mp3\n",
      "C:\\Users\\zafri\\OneDrive\\Desktop/fixed audio.mp3 --> C:\\Users\\zafri\\OneDrive\\Desktop/Desktop_Music/fixed audio.mp3\n",
      "mp3\n",
      "friends dance.mp3\n",
      "C:\\Users\\zafri\\OneDrive\\Desktop/friends dance.mp3 --> C:\\Users\\zafri\\OneDrive\\Desktop/Desktop_Music/friends dance.mp3\n",
      "pdf\n",
      "GILD-Q323-Earnings-Press-Release-7-November-2023.pdf\n",
      "C:\\Users\\zafri\\OneDrive\\Desktop/GILD-Q323-Earnings-Press-Release-7-November-2023.pdf --> C:\\Users\\zafri\\OneDrive\\Desktop/Desktop_Documents/GILD-Q323-Earnings-Press-Release-7-November-2023.pdf\n",
      "pdf\n",
      "Gmail - We've received your order #BBY01-806653024143_.pdf\n",
      "C:\\Users\\zafri\\OneDrive\\Desktop/Gmail - We've received your order #BBY01-806653024143_.pdf --> C:\\Users\\zafri\\OneDrive\\Desktop/Desktop_Documents/Gmail - We've received your order #BBY01-806653024143_.pdf\n",
      "lnk\n",
      "mp3\n",
      "holud_cut_3(short).mp3\n",
      "C:\\Users\\zafri\\OneDrive\\Desktop/holud_cut_3(short).mp3 --> C:\\Users\\zafri\\OneDrive\\Desktop/Desktop_Music/holud_cut_3(short).mp3\n",
      "pdf\n",
      "J-Card Request Form.pdf\n",
      "C:\\Users\\zafri\\OneDrive\\Desktop/J-Card Request Form.pdf --> C:\\Users\\zafri\\OneDrive\\Desktop/Desktop_Documents/J-Card Request Form.pdf\n",
      "pdf\n",
      "JHU Acceptance Letter.pdf\n",
      "C:\\Users\\zafri\\OneDrive\\Desktop/JHU Acceptance Letter.pdf --> C:\\Users\\zafri\\OneDrive\\Desktop/Desktop_Documents/JHU Acceptance Letter.pdf\n",
      "lnk\n",
      "LOANS\n",
      "pdf\n",
      "Mazda Build & Price Your Vehicle _ Mazda USA.pdf\n",
      "C:\\Users\\zafri\\OneDrive\\Desktop/Mazda Build & Price Your Vehicle _ Mazda USA.pdf --> C:\\Users\\zafri\\OneDrive\\Desktop/Desktop_Documents/Mazda Build & Price Your Vehicle _ Mazda USA.pdf\n",
      "pdf\n",
      "Mom NVR Form-filled.pdf\n",
      "C:\\Users\\zafri\\OneDrive\\Desktop/Mom NVR Form-filled.pdf --> C:\\Users\\zafri\\OneDrive\\Desktop/Desktop_Documents/Mom NVR Form-filled.pdf\n",
      "pdf\n",
      "Mom NVR Form.pdf\n",
      "C:\\Users\\zafri\\OneDrive\\Desktop/Mom NVR Form.pdf --> C:\\Users\\zafri\\OneDrive\\Desktop/Desktop_Documents/Mom NVR Form.pdf\n",
      "pdf\n",
      "My Ticket - Shen Yun 2024 - Berkeley.pdf\n",
      "C:\\Users\\zafri\\OneDrive\\Desktop/My Ticket - Shen Yun 2024 - Berkeley.pdf --> C:\\Users\\zafri\\OneDrive\\Desktop/Desktop_Documents/My Ticket - Shen Yun 2024 - Berkeley.pdf\n",
      "Naila's 16th Birthday - Final Hard Drive Version\n",
      "pdf\n",
      "Nelnet- JHU FALL 2023.pdf\n",
      "C:\\Users\\zafri\\OneDrive\\Desktop/Nelnet- JHU FALL 2023.pdf --> C:\\Users\\zafri\\OneDrive\\Desktop/Desktop_Documents/Nelnet- JHU FALL 2023.pdf\n",
      "mp3\n",
      "O Leke Pehla Pehla Pyar (HD) _ CID Songs _ Dev Anand _ Shakeela _ Sheela Vaz _ Filmigaane (320 kbps).mp3\n",
      "C:\\Users\\zafri\\OneDrive\\Desktop/O Leke Pehla Pehla Pyar (HD) _ CID Songs _ Dev Anand _ Shakeela _ Sheela Vaz _ Filmigaane (320 kbps).mp3 --> C:\\Users\\zafri\\OneDrive\\Desktop/Desktop_Music/O Leke Pehla Pehla Pyar (HD) _ CID Songs _ Dev Anand _ Shakeela _ Sheela Vaz _ Filmigaane (320 kbps).mp3\n",
      "pdf\n",
      "Order Confirmation - Ultimate Rewards.pdf\n",
      "C:\\Users\\zafri\\OneDrive\\Desktop/Order Confirmation - Ultimate Rewards.pdf --> C:\\Users\\zafri\\OneDrive\\Desktop/Desktop_Documents/Order Confirmation - Ultimate Rewards.pdf\n",
      "pdf\n",
      "pdf-statement-details.pdf\n",
      "C:\\Users\\zafri\\OneDrive\\Desktop/pdf-statement-details.pdf --> C:\\Users\\zafri\\OneDrive\\Desktop/Desktop_Documents/pdf-statement-details.pdf\n",
      "pdf\n",
      "Print Boarding Passes and Security Documents _ Southwest Airlines.pdf\n",
      "C:\\Users\\zafri\\OneDrive\\Desktop/Print Boarding Passes and Security Documents _ Southwest Airlines.pdf --> C:\\Users\\zafri\\OneDrive\\Desktop/Desktop_Documents/Print Boarding Passes and Security Documents _ Southwest Airlines.pdf\n",
      "mp3\n",
      "Priom Holud.mp3\n",
      "C:\\Users\\zafri\\OneDrive\\Desktop/Priom Holud.mp3 --> C:\\Users\\zafri\\OneDrive\\Desktop/Desktop_Music/Priom Holud.mp3\n",
      "pdf\n",
      "Sexual Misconduct Certificate.pdf\n",
      "C:\\Users\\zafri\\OneDrive\\Desktop/Sexual Misconduct Certificate.pdf --> C:\\Users\\zafri\\OneDrive\\Desktop/Desktop_Documents/Sexual Misconduct Certificate.pdf\n",
      "mp3\n",
      "Sohag Chand- Ayana 16th Birthday.mp3\n",
      "C:\\Users\\zafri\\OneDrive\\Desktop/Sohag Chand- Ayana 16th Birthday.mp3 --> C:\\Users\\zafri\\OneDrive\\Desktop/Desktop_Music/Sohag Chand- Ayana 16th Birthday.mp3\n",
      "pdf\n",
      "Southwest Airlines_ Confirmation.pdf\n",
      "C:\\Users\\zafri\\OneDrive\\Desktop/Southwest Airlines_ Confirmation.pdf --> C:\\Users\\zafri\\OneDrive\\Desktop/Desktop_Documents/Southwest Airlines_ Confirmation.pdf\n",
      "pdf\n",
      "Tax Information - Documents - Nelnet 1098 Mom.pdf\n",
      "C:\\Users\\zafri\\OneDrive\\Desktop/Tax Information - Documents - Nelnet 1098 Mom.pdf --> C:\\Users\\zafri\\OneDrive\\Desktop/Desktop_Documents/Tax Information - Documents - Nelnet 1098 Mom.pdf\n",
      "pdf\n",
      "Tax Information - Documents - OSLA 1098-E Abbu.pdf\n",
      "C:\\Users\\zafri\\OneDrive\\Desktop/Tax Information - Documents - OSLA 1098-E Abbu.pdf --> C:\\Users\\zafri\\OneDrive\\Desktop/Desktop_Documents/Tax Information - Documents - OSLA 1098-E Abbu.pdf\n",
      "lnk\n",
      "pptx\n",
      "Tylonel by Johnson or Johnsonn.pptx\n",
      "C:\\Users\\zafri\\OneDrive\\Desktop/Tylonel by Johnson or Johnsonn.pptx --> C:\\Users\\zafri\\OneDrive\\Desktop/Desktop_Documents/Tylonel by Johnson or Johnsonn.pptx\n"
     ]
    }
   ],
   "source": [
    "organizebyfiletypes(path_to_clean)"
   ]
  },
  {
   "cell_type": "code",
   "execution_count": 98,
   "id": "77220e86-abcd-4e7c-a119-cbd5a201f8b3",
   "metadata": {},
   "outputs": [
    {
     "data": {
      "text/plain": [
       "'C:\\\\Users\\\\zafri\\\\OneDrive\\\\Desktop'"
      ]
     },
     "execution_count": 98,
     "metadata": {},
     "output_type": "execute_result"
    }
   ],
   "source": [
    "os.getcwd()"
   ]
  },
  {
   "cell_type": "code",
   "execution_count": null,
   "id": "cfacb340-a783-46f7-902f-286514d6792e",
   "metadata": {},
   "outputs": [],
   "source": []
  }
 ],
 "metadata": {
  "kernelspec": {
   "display_name": "Python 3 (ipykernel)",
   "language": "python",
   "name": "python3"
  },
  "language_info": {
   "codemirror_mode": {
    "name": "ipython",
    "version": 3
   },
   "file_extension": ".py",
   "mimetype": "text/x-python",
   "name": "python",
   "nbconvert_exporter": "python",
   "pygments_lexer": "ipython3",
   "version": "3.12.3"
  }
 },
 "nbformat": 4,
 "nbformat_minor": 5
}
